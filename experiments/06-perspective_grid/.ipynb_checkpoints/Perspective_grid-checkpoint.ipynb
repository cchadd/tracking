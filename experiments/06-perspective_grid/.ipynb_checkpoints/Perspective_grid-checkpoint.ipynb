{
 "cells": [
  {
   "cell_type": "code",
   "execution_count": 1,
   "metadata": {
    "collapsed": true
   },
   "outputs": [],
   "source": [
    "import numpy as np\n",
    "import matplotlib.pyplot as plt"
   ]
  },
  {
   "cell_type": "code",
   "execution_count": 16,
   "metadata": {
    "collapsed": true
   },
   "outputs": [],
   "source": [
    "rectangle = np.array([[1, 1],\n",
    "                      [1, 4],\n",
    "                      [2, 4],\n",
    "                      [4, 1]])"
   ]
  },
  {
   "cell_type": "code",
   "execution_count": 17,
   "metadata": {},
   "outputs": [
    {
     "data": {
      "image/png": "[encoded data removed]",
      "text/plain": [
       "<Figure size 360x360 with 1 Axes>"
      ]
     },
     "metadata": {
      "needs_background": "light"
     },
     "output_type": "display_data"
    }
   ],
   "source": [
    "plt.figure(figsize=(5, 5))\n",
    "plt.plot(rectangle[:, 0], rectangle[:, 1], 'ro')\n",
    "plt.xlim(0, 5)\n",
    "plt.ylim(0, 5)\n",
    "plt.show()"
   ]
  },
  {
   "cell_type": "code",
   "execution_count": 113,
   "metadata": {
    "collapsed": true
   },
   "outputs": [],
   "source": [
    "points = np.array([[1, 1],\n",
    "                   [1, 4],\n",
    "                   [2, 4],\n",
    "                   [4, 0.5]])"
   ]
  },
  {
   "cell_type": "code",
   "execution_count": 114,
   "metadata": {
    "collapsed": true
   },
   "outputs": [],
   "source": [
    "def normalize(vec):\n",
    "    norm = np.linalg.norm(vec)\n",
    "    if norm:\n",
    "        return vec / norm\n",
    "    else:\n",
    "        # vec is null\n",
    "        return vec"
   ]
  },
  {
   "cell_type": "code",
   "execution_count": 115,
   "metadata": {
    "collapsed": true
   },
   "outputs": [],
   "source": [
    "class line:\n",
    "    \n",
    "    def __init__(self, A, B):\n",
    "        self.A = np.array(A)\n",
    "        self.B = np.array(B)\n",
    "        self.unit = normalize(self.A - self.B)\n",
    "        self.normal = normalize(np.array([-self.unit[1], self.unit[0]]))\n",
    "    \n",
    "    def __mul__(self, l2):\n",
    "        \"\"\"\n",
    "            Get intersection point of the two lines\n",
    "        \"\"\"\n",
    "        scalar_prod = np.sum(self.unit*l2.normal)\n",
    "        if not scalar_prod:\n",
    "            None\n",
    "        else:\n",
    "            M = self.B + self.unit*np.sum((l2.B-self.B)*(l2.normal))/np.sum((self.unit*l2.normal))\n",
    "        return M"
   ]
  },
  {
   "cell_type": "code",
   "execution_count": 116,
   "metadata": {
    "collapsed": true
   },
   "outputs": [],
   "source": [
    "l1 = line(points[0], points[1])\n",
    "l2 = line(points[2], points[3])\n",
    "M = l1 * l2"
   ]
  },
  {
   "cell_type": "code",
   "execution_count": 117,
   "metadata": {},
   "outputs": [
    {
     "data": {
      "text/plain": [
       "[<matplotlib.lines.Line2D at 0xc8f1e80>]"
      ]
     },
     "execution_count": 117,
     "metadata": {},
     "output_type": "execute_result"
    },
    {
     "data": {
      "image/png": "[encoded data removed]",
      "text/plain": [
       "<Figure size 432x288 with 1 Axes>"
      ]
     },
     "metadata": {
      "needs_background": "light"
     },
     "output_type": "display_data"
    }
   ],
   "source": [
    "plt.plot(points[:, 0], points[:, 1], 'ro')\n",
    "plt.plot([M[0]], [M[1]], 'bo')"
   ]
  },
  {
   "cell_type": "code",
   "execution_count": 203,
   "metadata": {
    "collapsed": true
   },
   "outputs": [],
   "source": [
    "class parallelogram:\n",
    "    \n",
    "    def __init__(self, points):\n",
    "        \"\"\"\n",
    "            ordered points\n",
    "        \"\"\"\n",
    "        self.points = points\n",
    "        self.center = line(self.points[0], points[2])*line(self.points[1], points[3])\n",
    "        \n",
    "    def divide(self):\n",
    "        # \n",
    "        Ia = line(points[0], points[3])*line(points[1], points[2])\n",
    "        A_ = line(Ia, self.center)*line(points[0], points[1])\n",
    "        C_ = line(Ia, self.center)*line(points[2], points[3])\n",
    "        # \n",
    "        Ib = line(points[0], points[1])*line(points[2], points[3])\n",
    "        B_ = line(Ib, self.center)*line(points[1], points[2])\n",
    "        D_ = line(Ib, self.center)*line(points[0], points[3])\n",
    "        # new parallelograms \n",
    "        p1 = [points[0], A_, self.center, D_]\n",
    "        p2 = [points[1], B_, self.center, A_]\n",
    "        p3 = [points[2], C_, self.center, B_]\n",
    "        p4 = [points[3], D_, self.center, C_]\n",
    "        \n",
    "        return p1, p2, p3, p4"
   ]
  },
  {
   "cell_type": "code",
   "execution_count": 239,
   "metadata": {
    "collapsed": true
   },
   "outputs": [],
   "source": [
    "def plug(parallelogram):\n",
    "    points_ = np.empty((0, 2))\n",
    "    for point in parallelogram:\n",
    "        points_ = np.vstack((points_, point))\n",
    "    return points_"
   ]
  },
  {
   "cell_type": "code",
   "execution_count": 240,
   "metadata": {},
   "outputs": [
    {
     "data": {
      "text/plain": [
       "array([[4.        , 0.5       ],\n",
       "       [2.38461538, 0.76923077],\n",
       "       [1.72      , 3.16      ],\n",
       "       [2.5       , 3.125     ]])"
      ]
     },
     "execution_count": 240,
     "metadata": {},
     "output_type": "execute_result"
    }
   ],
   "source": [
    "plug(p)"
   ]
  },
  {
   "cell_type": "code",
   "execution_count": 241,
   "metadata": {
    "collapsed": true
   },
   "outputs": [],
   "source": [
    "P = parallelogram(points)\n",
    "sub_parallelo = P.divide()\n",
    "sub_parallelo = [plug(p) for p in  sub_parallelo]"
   ]
  },
  {
   "cell_type": "code",
   "execution_count": 244,
   "metadata": {
    "collapsed": true
   },
   "outputs": [],
   "source": [
    "def recursive_ortho_grid(n, points):\n",
    "    if n > 0:\n",
    "        P = parallelogram(points)\n",
    "        sub_parallelo = P.divide()\n",
    "        sub_parallelo = [plug(p) for p in  sub_parallelo]\n",
    "        for p in sub_parallelo:\n",
    "            plt.plot(p[:, 0], p[:, 1], 'ro', alpha=0.7)\n",
    "            recursive_ortho_grid(n-1, p)\n",
    "    else:\n",
    "        return"
   ]
  },
  {
   "cell_type": "code",
   "execution_count": 245,
   "metadata": {},
   "outputs": [
    {
     "data": {
      "image/png": "[encoded data removed]",
      "text/plain": [
       "<Figure size 720x720 with 1 Axes>"
      ]
     },
     "metadata": {
      "needs_background": "light"
     },
     "output_type": "display_data"
    }
   ],
   "source": [
    "plt.figure(figsize=(10, 10))\n",
    "recursive_ortho_grid(2, points)"
   ]
  }
 ],
 "metadata": {
  "kernelspec": {
   "display_name": "Python 3",
   "language": "python",
   "name": "python3"
  },
  "language_info": {
   "codemirror_mode": {
    "name": "ipython",
    "version": 3
   },
   "file_extension": ".py",
   "mimetype": "text/x-python",
   "name": "python",
   "nbconvert_exporter": "python",
   "pygments_lexer": "ipython3",
   "version": "3.5.2"
  }
 },
 "nbformat": 4,
 "nbformat_minor": 2
}
